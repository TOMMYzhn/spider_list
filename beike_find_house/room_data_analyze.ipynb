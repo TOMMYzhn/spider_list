{
 "cells": [
  {
   "cell_type": "code",
   "execution_count": 2,
   "metadata": {
    "scrolled": false
   },
   "outputs": [],
   "source": [
    "import pandas as pd\n",
    "import numpy as np\n",
    "from matplotlib import pyplot as plt\n",
    "import csv\n",
    "data = pd.read_excel(r\"F:\\0_个人学习\\3_数据分析与挖掘\\2_案例实战\\AI之房产信息分析\\beike_find_house - 副本.xlsx\", header=None)"
   ]
  },
  {
   "cell_type": "code",
   "execution_count": 3,
   "metadata": {},
   "outputs": [],
   "source": [
    "data.columns = ['区/县','区域','小区','总价','单价','房屋户型','楼层','总面积','户型结构','套内面积','建筑类型','朝向','建筑结构','装修情况','梯户比例','供暖方式','配备电梯','产权年限','s','交易权属','u','形式','是否满五','产权形式','是否有房本','小区均价','小区建成','style','总栋数'] "
   ]
  },
  {
   "cell_type": "code",
   "execution_count": 4,
   "metadata": {},
   "outputs": [
    {
     "data": {
      "text/html": [
       "<div>\n",
       "<style scoped>\n",
       "    .dataframe tbody tr th:only-of-type {\n",
       "        vertical-align: middle;\n",
       "    }\n",
       "\n",
       "    .dataframe tbody tr th {\n",
       "        vertical-align: top;\n",
       "    }\n",
       "\n",
       "    .dataframe thead th {\n",
       "        text-align: right;\n",
       "    }\n",
       "</style>\n",
       "<table border=\"1\" class=\"dataframe\">\n",
       "  <thead>\n",
       "    <tr style=\"text-align: right;\">\n",
       "      <th></th>\n",
       "      <th>区/县</th>\n",
       "      <th>区域</th>\n",
       "      <th>小区</th>\n",
       "      <th>总价</th>\n",
       "      <th>单价</th>\n",
       "      <th>房屋户型</th>\n",
       "      <th>楼层</th>\n",
       "      <th>总面积</th>\n",
       "      <th>户型结构</th>\n",
       "      <th>套内面积</th>\n",
       "      <th>...</th>\n",
       "      <th>交易权属</th>\n",
       "      <th>u</th>\n",
       "      <th>形式</th>\n",
       "      <th>是否满五</th>\n",
       "      <th>产权形式</th>\n",
       "      <th>是否有房本</th>\n",
       "      <th>小区均价</th>\n",
       "      <th>小区建成</th>\n",
       "      <th>style</th>\n",
       "      <th>总栋数</th>\n",
       "    </tr>\n",
       "  </thead>\n",
       "  <tbody>\n",
       "    <tr>\n",
       "      <td>0</td>\n",
       "      <td>朝阳</td>\n",
       "      <td>东坝</td>\n",
       "      <td>奥林匹克花园四期</td>\n",
       "      <td>760.0</td>\n",
       "      <td>54453.0</td>\n",
       "      <td>3室1厅2卫</td>\n",
       "      <td>低楼层(共10层)</td>\n",
       "      <td>139.57㎡</td>\n",
       "      <td>平层</td>\n",
       "      <td>124.91㎡</td>\n",
       "      <td>...</td>\n",
       "      <td>商品房</td>\n",
       "      <td>40679</td>\n",
       "      <td>普通住宅</td>\n",
       "      <td>满五年</td>\n",
       "      <td>共有</td>\n",
       "      <td>已上传房本照片</td>\n",
       "      <td>\\n60708元/㎡\\n</td>\n",
       "      <td>2009年建成</td>\n",
       "      <td>板楼/塔板结合</td>\n",
       "      <td>23栋</td>\n",
       "    </tr>\n",
       "    <tr>\n",
       "      <td>1</td>\n",
       "      <td>顺义</td>\n",
       "      <td>顺义城</td>\n",
       "      <td>石园北区</td>\n",
       "      <td>439.0</td>\n",
       "      <td>33082.1</td>\n",
       "      <td>3室1厅2卫</td>\n",
       "      <td>低楼层(共16层)</td>\n",
       "      <td>132.7㎡</td>\n",
       "      <td>平层</td>\n",
       "      <td>107.19㎡</td>\n",
       "      <td>...</td>\n",
       "      <td>商品房</td>\n",
       "      <td>41912</td>\n",
       "      <td>普通住宅</td>\n",
       "      <td>满五年</td>\n",
       "      <td>非共有</td>\n",
       "      <td>已上传房本照片</td>\n",
       "      <td>\\n34244元/㎡\\n</td>\n",
       "      <td>1996年建成</td>\n",
       "      <td>塔楼/板楼</td>\n",
       "      <td>79栋</td>\n",
       "    </tr>\n",
       "    <tr>\n",
       "      <td>2</td>\n",
       "      <td>门头沟</td>\n",
       "      <td>滨河西区</td>\n",
       "      <td>葡东小区</td>\n",
       "      <td>168.0</td>\n",
       "      <td>22547.3</td>\n",
       "      <td>2室2厅1卫</td>\n",
       "      <td>地下室(共6层)</td>\n",
       "      <td>74.51㎡</td>\n",
       "      <td>平层</td>\n",
       "      <td>板楼</td>\n",
       "      <td>...</td>\n",
       "      <td>商品房</td>\n",
       "      <td>43362</td>\n",
       "      <td>普通住宅</td>\n",
       "      <td>暂无数据</td>\n",
       "      <td>共有</td>\n",
       "      <td>已上传房本照片</td>\n",
       "      <td>\\n31881元/㎡\\n</td>\n",
       "      <td>1995年建成</td>\n",
       "      <td>板楼</td>\n",
       "      <td>28栋</td>\n",
       "    </tr>\n",
       "    <tr>\n",
       "      <td>3</td>\n",
       "      <td>房山</td>\n",
       "      <td>良乡</td>\n",
       "      <td>聪慧里</td>\n",
       "      <td>165.0</td>\n",
       "      <td>28080.3</td>\n",
       "      <td>2室1厅1卫</td>\n",
       "      <td>高楼层(共6层)</td>\n",
       "      <td>58.76㎡</td>\n",
       "      <td>平层</td>\n",
       "      <td>板楼</td>\n",
       "      <td>...</td>\n",
       "      <td>已购公房</td>\n",
       "      <td>42852</td>\n",
       "      <td>普通住宅</td>\n",
       "      <td>满两年</td>\n",
       "      <td>非共有</td>\n",
       "      <td>已上传房本照片</td>\n",
       "      <td>\\n30619元/㎡\\n</td>\n",
       "      <td>1992年建成</td>\n",
       "      <td>板楼</td>\n",
       "      <td>3栋</td>\n",
       "    </tr>\n",
       "    <tr>\n",
       "      <td>4</td>\n",
       "      <td>海淀</td>\n",
       "      <td>清河</td>\n",
       "      <td>强佑清河新城</td>\n",
       "      <td>442.0</td>\n",
       "      <td>68000.0</td>\n",
       "      <td>2室1厅1卫</td>\n",
       "      <td>中楼层(共27层)</td>\n",
       "      <td>65㎡</td>\n",
       "      <td>平层</td>\n",
       "      <td>52.98㎡</td>\n",
       "      <td>...</td>\n",
       "      <td>商品房</td>\n",
       "      <td>40995</td>\n",
       "      <td>普通住宅</td>\n",
       "      <td>满五年</td>\n",
       "      <td>共有</td>\n",
       "      <td>已上传房本照片</td>\n",
       "      <td>\\n66372元/㎡\\n</td>\n",
       "      <td>2007年建成</td>\n",
       "      <td>塔楼/板楼/塔板结合</td>\n",
       "      <td>12栋</td>\n",
       "    </tr>\n",
       "  </tbody>\n",
       "</table>\n",
       "<p>5 rows × 29 columns</p>\n",
       "</div>"
      ],
      "text/plain": [
       "   区/县    区域        小区     总价       单价    房屋户型         楼层      总面积 户型结构  \\\n",
       "0   朝阳    东坝  奥林匹克花园四期  760.0  54453.0  3室1厅2卫  低楼层(共10层)  139.57㎡   平层   \n",
       "1   顺义   顺义城      石园北区  439.0  33082.1  3室1厅2卫  低楼层(共16层)   132.7㎡   平层   \n",
       "2  门头沟  滨河西区      葡东小区  168.0  22547.3  2室2厅1卫   地下室(共6层)   74.51㎡   平层   \n",
       "3   房山    良乡       聪慧里  165.0  28080.3  2室1厅1卫   高楼层(共6层)   58.76㎡   平层   \n",
       "4   海淀    清河    强佑清河新城  442.0  68000.0  2室1厅1卫  中楼层(共27层)      65㎡   平层   \n",
       "\n",
       "      套内面积  ...  交易权属      u    形式  是否满五 产权形式    是否有房本          小区均价     小区建成  \\\n",
       "0  124.91㎡  ...   商品房  40679  普通住宅   满五年   共有  已上传房本照片  \\n60708元/㎡\\n  2009年建成   \n",
       "1  107.19㎡  ...   商品房  41912  普通住宅   满五年  非共有  已上传房本照片  \\n34244元/㎡\\n  1996年建成   \n",
       "2       板楼  ...   商品房  43362  普通住宅  暂无数据   共有  已上传房本照片  \\n31881元/㎡\\n  1995年建成   \n",
       "3       板楼  ...  已购公房  42852  普通住宅   满两年  非共有  已上传房本照片  \\n30619元/㎡\\n  1992年建成   \n",
       "4   52.98㎡  ...   商品房  40995  普通住宅   满五年   共有  已上传房本照片  \\n66372元/㎡\\n  2007年建成   \n",
       "\n",
       "        style  总栋数  \n",
       "0     板楼/塔板结合  23栋  \n",
       "1       塔楼/板楼  79栋  \n",
       "2          板楼  28栋  \n",
       "3          板楼   3栋  \n",
       "4  塔楼/板楼/塔板结合  12栋  \n",
       "\n",
       "[5 rows x 29 columns]"
      ]
     },
     "execution_count": 4,
     "metadata": {},
     "output_type": "execute_result"
    }
   ],
   "source": [
    "data.head()"
   ]
  },
  {
   "cell_type": "code",
   "execution_count": 5,
   "metadata": {},
   "outputs": [],
   "source": [
    "# 数据清洗\n",
    "data['装修情况'] = data.apply(lambda x:x['建筑类型'] if ('南北' in str(x['户型结构'])) else x['装修情况'],axis=1)\n",
    "\n",
    "data['建筑结构'] = data.apply(lambda x:x['套内面积'] if ('南北' in str(x['户型结构'])) else x['建筑结构'],axis=1)\n",
    "\n",
    "data['朝向'] = data.apply(lambda x:x['户型结构'] if ('南北' in str(x['户型结构'])) else x['朝向'],axis=1)\n",
    "\n",
    "data['套内面积'] = data.apply(lambda x:'㎡' if ('南北' in str(x['户型结构'])) else x['套内面积'],axis=1)\n",
    "\n",
    "data['装修情况'] = data.apply(lambda x:x['朝向'] if ('㎡' in str(x['户型结构'])) else x['装修情况'],axis=1)\n",
    "\n",
    "data['建筑结构'] = data.apply(lambda x:x['建筑类型'] if ('㎡' in str(x['户型结构'])) else x['建筑结构'],axis=1)\n",
    "\n",
    "data['朝向'] = data.apply(lambda x:x['套内面积'] if ('㎡' in str(x['户型结构'])) else x['朝向'],axis=1)\n",
    "\n",
    "data['套内面积'] = data.apply(lambda x:'㎡' if ('㎡' in str(x['户型结构'])) else x['套内面积'],axis=1)\n",
    "\n",
    "data['套内面积'] = data.apply(lambda x:'㎡' if ('暂无数据' in str(x['套内面积'])) else x['套内面积'],axis=1)\n",
    "\n",
    "data['装修情况'] = data.apply(lambda x:x['装修情况'] if ('㎡' in str(x['套内面积'])) else x['建筑结构'],axis=1)\n",
    "\n",
    "data['建筑结构'] = data.apply(lambda x:x['建筑结构'] if ('㎡' in str(x['套内面积'])) else x['朝向'],axis=1)\n",
    "\n",
    "data['朝向'] = data.apply(lambda x:x['朝向'] if ('㎡' in str(x['套内面积'])) else x['建筑类型'],axis=1)\n",
    "\n",
    "data['建筑类型'] = data.apply(lambda x:x['建筑类型'] if ('㎡' in str(x['套内面积'])) else x['套内面积'],axis=1)\n",
    "\n",
    "data['套内面积'] = data.apply(lambda x:x['套内面积'] if ('㎡' in str(x['套内面积'])) else '无信息',axis=1)\n",
    "\n",
    "data['装修情况'] = data.apply(lambda x:x['建筑结构'] if (('户') in str(x['装修情况'])) else x['装修情况'],axis=1)\n",
    "\n",
    "data['建筑结构'] = data.apply(lambda x:x['朝向'] if (('户') in str(x['装修情况'])) else x['建筑结构'],axis=1)\n",
    "\n",
    "data['朝向'] = data.apply(lambda x:x['建筑类型'] if (('户') in str(x['装修情况'])) else x['朝向'],axis=1)\n",
    "\n",
    "data['建筑结构'] = data.apply(lambda x:x['朝向'] if ('结构' in str(x['朝向'])) else x['建筑结构'],axis=1)\n",
    "\n",
    "data['朝向'] = data.apply(lambda x:x['建筑类型'] if ('结构' in str(x['朝向'])) else x['朝向'],axis=1)\n",
    "\n",
    "data['总楼层'] = data.apply(lambda x:str(x[6])[3:].strip('(共').strip('层)'),axis=1)\n",
    "data['楼层'] = data.apply(lambda x:str(x[6])[:3],axis=1)\n",
    "data['总面积'] = data.apply(lambda x:str(x[7]).strip('㎡'),axis=1)\n",
    "data['小区均价'] = data.apply(lambda x:str(x[-5]).strip('元/㎡\\n').strip('\\n'),axis=1)\n",
    "data['小区建成'] = data.apply(lambda x:str(x[-4])[:4],axis=1)\n",
    "data['总栋数'] = data.apply(lambda x:str(x[-2])[:-1],axis=1)"
   ]
  },
  {
   "cell_type": "code",
   "execution_count": 6,
   "metadata": {},
   "outputs": [],
   "source": [
    "data.to_csv('after_deal_data.csv',encoding='utf_8_sig')"
   ]
  },
  {
   "cell_type": "code",
   "execution_count": 7,
   "metadata": {},
   "outputs": [],
   "source": [
    "need_data = data[['区/县','区域','小区','总价','单价','房屋户型','楼层','总面积','朝向','建筑结构','装修情况','交易权属','形式','是否满五','产权形式','是否有房本','小区均价','小区建成','总栋数']] "
   ]
  },
  {
   "cell_type": "code",
   "execution_count": 8,
   "metadata": {},
   "outputs": [
    {
     "data": {
      "text/html": [
       "<div>\n",
       "<style scoped>\n",
       "    .dataframe tbody tr th:only-of-type {\n",
       "        vertical-align: middle;\n",
       "    }\n",
       "\n",
       "    .dataframe tbody tr th {\n",
       "        vertical-align: top;\n",
       "    }\n",
       "\n",
       "    .dataframe thead th {\n",
       "        text-align: right;\n",
       "    }\n",
       "</style>\n",
       "<table border=\"1\" class=\"dataframe\">\n",
       "  <thead>\n",
       "    <tr style=\"text-align: right;\">\n",
       "      <th></th>\n",
       "      <th>区/县</th>\n",
       "      <th>区域</th>\n",
       "      <th>小区</th>\n",
       "      <th>总价</th>\n",
       "      <th>单价</th>\n",
       "      <th>房屋户型</th>\n",
       "      <th>楼层</th>\n",
       "      <th>总面积</th>\n",
       "      <th>朝向</th>\n",
       "      <th>建筑结构</th>\n",
       "      <th>装修情况</th>\n",
       "      <th>交易权属</th>\n",
       "      <th>形式</th>\n",
       "      <th>是否满五</th>\n",
       "      <th>产权形式</th>\n",
       "      <th>是否有房本</th>\n",
       "      <th>小区均价</th>\n",
       "      <th>小区建成</th>\n",
       "      <th>总栋数</th>\n",
       "    </tr>\n",
       "  </thead>\n",
       "  <tbody>\n",
       "    <tr>\n",
       "      <td>0</td>\n",
       "      <td>朝阳</td>\n",
       "      <td>东坝</td>\n",
       "      <td>奥林匹克花园四期</td>\n",
       "      <td>760.0</td>\n",
       "      <td>54453.0</td>\n",
       "      <td>3室1厅2卫</td>\n",
       "      <td>低楼层</td>\n",
       "      <td>139.57</td>\n",
       "      <td>南北</td>\n",
       "      <td>钢混结构</td>\n",
       "      <td>精装</td>\n",
       "      <td>商品房</td>\n",
       "      <td>普通住宅</td>\n",
       "      <td>满五年</td>\n",
       "      <td>共有</td>\n",
       "      <td>已上传房本照片</td>\n",
       "      <td>60708</td>\n",
       "      <td>2009</td>\n",
       "      <td>23</td>\n",
       "    </tr>\n",
       "    <tr>\n",
       "      <td>1</td>\n",
       "      <td>顺义</td>\n",
       "      <td>顺义城</td>\n",
       "      <td>石园北区</td>\n",
       "      <td>439.0</td>\n",
       "      <td>33082.1</td>\n",
       "      <td>3室1厅2卫</td>\n",
       "      <td>低楼层</td>\n",
       "      <td>132.7</td>\n",
       "      <td>南北</td>\n",
       "      <td>混合结构</td>\n",
       "      <td>简装</td>\n",
       "      <td>商品房</td>\n",
       "      <td>普通住宅</td>\n",
       "      <td>满五年</td>\n",
       "      <td>非共有</td>\n",
       "      <td>已上传房本照片</td>\n",
       "      <td>34244</td>\n",
       "      <td>1996</td>\n",
       "      <td>79</td>\n",
       "    </tr>\n",
       "    <tr>\n",
       "      <td>2</td>\n",
       "      <td>门头沟</td>\n",
       "      <td>滨河西区</td>\n",
       "      <td>葡东小区</td>\n",
       "      <td>168.0</td>\n",
       "      <td>22547.3</td>\n",
       "      <td>2室2厅1卫</td>\n",
       "      <td>地下室</td>\n",
       "      <td>74.51</td>\n",
       "      <td>南</td>\n",
       "      <td>混合结构</td>\n",
       "      <td>精装</td>\n",
       "      <td>商品房</td>\n",
       "      <td>普通住宅</td>\n",
       "      <td>暂无数据</td>\n",
       "      <td>共有</td>\n",
       "      <td>已上传房本照片</td>\n",
       "      <td>31881</td>\n",
       "      <td>1995</td>\n",
       "      <td>28</td>\n",
       "    </tr>\n",
       "    <tr>\n",
       "      <td>3</td>\n",
       "      <td>房山</td>\n",
       "      <td>良乡</td>\n",
       "      <td>聪慧里</td>\n",
       "      <td>165.0</td>\n",
       "      <td>28080.3</td>\n",
       "      <td>2室1厅1卫</td>\n",
       "      <td>高楼层</td>\n",
       "      <td>58.76</td>\n",
       "      <td>南北</td>\n",
       "      <td>混合结构</td>\n",
       "      <td>简装</td>\n",
       "      <td>已购公房</td>\n",
       "      <td>普通住宅</td>\n",
       "      <td>满两年</td>\n",
       "      <td>非共有</td>\n",
       "      <td>已上传房本照片</td>\n",
       "      <td>30619</td>\n",
       "      <td>1992</td>\n",
       "      <td>3</td>\n",
       "    </tr>\n",
       "    <tr>\n",
       "      <td>4</td>\n",
       "      <td>海淀</td>\n",
       "      <td>清河</td>\n",
       "      <td>强佑清河新城</td>\n",
       "      <td>442.0</td>\n",
       "      <td>68000.0</td>\n",
       "      <td>2室1厅1卫</td>\n",
       "      <td>中楼层</td>\n",
       "      <td>65</td>\n",
       "      <td>东南</td>\n",
       "      <td>钢混结构</td>\n",
       "      <td>精装</td>\n",
       "      <td>商品房</td>\n",
       "      <td>普通住宅</td>\n",
       "      <td>满五年</td>\n",
       "      <td>共有</td>\n",
       "      <td>已上传房本照片</td>\n",
       "      <td>66372</td>\n",
       "      <td>2007</td>\n",
       "      <td>12</td>\n",
       "    </tr>\n",
       "  </tbody>\n",
       "</table>\n",
       "</div>"
      ],
      "text/plain": [
       "   区/县    区域        小区     总价       单价    房屋户型   楼层     总面积  朝向  建筑结构 装修情况  \\\n",
       "0   朝阳    东坝  奥林匹克花园四期  760.0  54453.0  3室1厅2卫  低楼层  139.57  南北  钢混结构   精装   \n",
       "1   顺义   顺义城      石园北区  439.0  33082.1  3室1厅2卫  低楼层   132.7  南北  混合结构   简装   \n",
       "2  门头沟  滨河西区      葡东小区  168.0  22547.3  2室2厅1卫  地下室   74.51   南  混合结构   精装   \n",
       "3   房山    良乡       聪慧里  165.0  28080.3  2室1厅1卫  高楼层   58.76  南北  混合结构   简装   \n",
       "4   海淀    清河    强佑清河新城  442.0  68000.0  2室1厅1卫  中楼层      65  东南  钢混结构   精装   \n",
       "\n",
       "   交易权属    形式  是否满五 产权形式    是否有房本   小区均价  小区建成 总栋数  \n",
       "0   商品房  普通住宅   满五年   共有  已上传房本照片  60708  2009  23  \n",
       "1   商品房  普通住宅   满五年  非共有  已上传房本照片  34244  1996  79  \n",
       "2   商品房  普通住宅  暂无数据   共有  已上传房本照片  31881  1995  28  \n",
       "3  已购公房  普通住宅   满两年  非共有  已上传房本照片  30619  1992   3  \n",
       "4   商品房  普通住宅   满五年   共有  已上传房本照片  66372  2007  12  "
      ]
     },
     "execution_count": 8,
     "metadata": {},
     "output_type": "execute_result"
    }
   ],
   "source": [
    "need_data.head()"
   ]
  },
  {
   "cell_type": "code",
   "execution_count": 9,
   "metadata": {},
   "outputs": [
    {
     "name": "stdout",
     "output_type": "stream",
     "text": [
      "<class 'pandas.core.frame.DataFrame'>\n",
      "RangeIndex: 2950 entries, 0 to 2949\n",
      "Data columns (total 19 columns):\n",
      "区/县      2950 non-null object\n",
      "区域       2950 non-null object\n",
      "小区       2950 non-null object\n",
      "总价       2950 non-null float64\n",
      "单价       2950 non-null float64\n",
      "房屋户型     2950 non-null object\n",
      "楼层       2950 non-null object\n",
      "总面积      2950 non-null object\n",
      "朝向       2950 non-null object\n",
      "建筑结构     2950 non-null object\n",
      "装修情况     2950 non-null object\n",
      "交易权属     2950 non-null object\n",
      "形式       2950 non-null object\n",
      "是否满五     2950 non-null object\n",
      "产权形式     2950 non-null object\n",
      "是否有房本    2950 non-null object\n",
      "小区均价     2950 non-null object\n",
      "小区建成     2950 non-null object\n",
      "总栋数      2950 non-null object\n",
      "dtypes: float64(2), object(17)\n",
      "memory usage: 438.0+ KB\n"
     ]
    }
   ],
   "source": [
    "need_data.info()"
   ]
  },
  {
   "cell_type": "code",
   "execution_count": 10,
   "metadata": {},
   "outputs": [
    {
     "data": {
      "text/html": [
       "<div>\n",
       "<style scoped>\n",
       "    .dataframe tbody tr th:only-of-type {\n",
       "        vertical-align: middle;\n",
       "    }\n",
       "\n",
       "    .dataframe tbody tr th {\n",
       "        vertical-align: top;\n",
       "    }\n",
       "\n",
       "    .dataframe thead th {\n",
       "        text-align: right;\n",
       "    }\n",
       "</style>\n",
       "<table border=\"1\" class=\"dataframe\">\n",
       "  <thead>\n",
       "    <tr style=\"text-align: right;\">\n",
       "      <th></th>\n",
       "      <th>总价</th>\n",
       "      <th>单价</th>\n",
       "    </tr>\n",
       "  </thead>\n",
       "  <tbody>\n",
       "    <tr>\n",
       "      <td>count</td>\n",
       "      <td>2950.000000</td>\n",
       "      <td>2950.000000</td>\n",
       "    </tr>\n",
       "    <tr>\n",
       "      <td>mean</td>\n",
       "      <td>451.843525</td>\n",
       "      <td>51352.566339</td>\n",
       "    </tr>\n",
       "    <tr>\n",
       "      <td>std</td>\n",
       "      <td>253.832985</td>\n",
       "      <td>19444.434781</td>\n",
       "    </tr>\n",
       "    <tr>\n",
       "      <td>min</td>\n",
       "      <td>115.000000</td>\n",
       "      <td>13802.300000</td>\n",
       "    </tr>\n",
       "    <tr>\n",
       "      <td>25%</td>\n",
       "      <td>294.250000</td>\n",
       "      <td>37811.425000</td>\n",
       "    </tr>\n",
       "    <tr>\n",
       "      <td>50%</td>\n",
       "      <td>388.000000</td>\n",
       "      <td>47956.100000</td>\n",
       "    </tr>\n",
       "    <tr>\n",
       "      <td>75%</td>\n",
       "      <td>518.000000</td>\n",
       "      <td>60914.850000</td>\n",
       "    </tr>\n",
       "    <tr>\n",
       "      <td>max</td>\n",
       "      <td>2530.000000</td>\n",
       "      <td>153571.000000</td>\n",
       "    </tr>\n",
       "  </tbody>\n",
       "</table>\n",
       "</div>"
      ],
      "text/plain": [
       "                总价             单价\n",
       "count  2950.000000    2950.000000\n",
       "mean    451.843525   51352.566339\n",
       "std     253.832985   19444.434781\n",
       "min     115.000000   13802.300000\n",
       "25%     294.250000   37811.425000\n",
       "50%     388.000000   47956.100000\n",
       "75%     518.000000   60914.850000\n",
       "max    2530.000000  153571.000000"
      ]
     },
     "execution_count": 10,
     "metadata": {},
     "output_type": "execute_result"
    }
   ],
   "source": [
    "need_data.describe()"
   ]
  },
  {
   "cell_type": "code",
   "execution_count": 11,
   "metadata": {
    "scrolled": true
   },
   "outputs": [
    {
     "data": {
      "image/png": "[encoded data removed]",
      "text/plain": [
       "<Figure size 432x288 with 1 Axes>"
      ]
     },
     "metadata": {
      "needs_background": "light"
     },
     "output_type": "display_data"
    }
   ],
   "source": [
    "#  图表中文显示\n",
    "plt.rcParams['font.sans-serif'] = ['SimHei'] # 步骤一（替换sans-serif字体）\n",
    "plt.rcParams['axes.unicode_minus'] = False   # 步骤二（解决坐标轴负数的负号显示问题）\n",
    "fig, ax=plt.subplots()\n",
    "\n",
    "'''\n",
    "各区县房源分布情况！！！\n",
    "'''\n",
    "need_data['区/县'].value_counts().plot(kind='bar',color=['green','red','blue','grey','pink'],alpha=0.5)\n",
    "plt.title('北京二手房各区、县房源分布信息！',fontsize=15)\n",
    "plt.xlabel('区、县名称',fontsize=15)\n",
    "plt.ylabel('房源数量',fontsize=15)\n",
    "plt.grid(linestyle=\":\", color=\"r\")\n",
    "plt.xticks(rotation=60)\n",
    "plt.legend()\n",
    "plt.show()"
   ]
  },
  {
   "cell_type": "code",
   "execution_count": 12,
   "metadata": {},
   "outputs": [
    {
     "data": {
      "image/png": "[encoded data removed]",
      "text/plain": [
       "<Figure size 432x288 with 1 Axes>"
      ]
     },
     "metadata": {
      "needs_background": "light"
     },
     "output_type": "display_data"
    }
   ],
   "source": [
    "'''\n",
    "各区县房源均价分布情况！！！\n",
    "'''\n",
    "need_data.groupby('区/县').mean()['单价'].sort_values(ascending=True).plot(kind='barh',color=['r','g','y','b'],alpha=0.5)\n",
    "plt.title('北京二手房各区、县房屋均价分布信息！',fontsize=15)\n",
    "plt.xlabel('房屋均价',fontsize=15)\n",
    "plt.ylabel('区、县名称',fontsize=15)\n",
    "plt.grid(linestyle=\":\", color=\"r\")\n",
    "plt.legend()\n",
    "plt.show()"
   ]
  },
  {
   "cell_type": "code",
   "execution_count": 13,
   "metadata": {},
   "outputs": [
    {
     "name": "stdout",
     "output_type": "stream",
     "text": [
      "2室1厅1卫    1571\n",
      "3室1厅1卫     429\n",
      "1室1厅1卫     239\n",
      "3室2厅2卫     191\n",
      "3室1厅2卫     165\n",
      "2室2厅1卫     151\n",
      "2室1厅2卫      50\n",
      "3室2厅1卫      44\n",
      "2室2厅2卫      34\n",
      "4室2厅2卫      18\n",
      "4室1厅2卫      15\n",
      "1室0厅1卫       9\n",
      "1室2厅1卫       6\n",
      "4室2厅3卫       6\n",
      "4室1厅1卫       4\n",
      "3室2厅3卫       4\n",
      "1室1厅2卫       3\n",
      "2室0厅1卫       3\n",
      "3室1厅3卫       2\n",
      "5室2厅4卫       1\n",
      "3室0厅1卫       1\n",
      "1室0厅0卫       1\n",
      "5室2厅2卫       1\n",
      "4室1厅3卫       1\n",
      "1室0厅2卫       1\n",
      "Name: 房屋户型, dtype: int64\n"
     ]
    },
    {
     "data": {
      "image/png": "[encoded data removed]",
      "text/plain": [
       "<Figure size 432x288 with 1 Axes>"
      ]
     },
     "metadata": {
      "needs_background": "light"
     },
     "output_type": "display_data"
    }
   ],
   "source": [
    "'''\n",
    "房屋户型情况\n",
    "'''\n",
    "room_style = need_data['房屋户型'].value_counts()\n",
    "print(room_style)\n",
    "need_data['房屋户型'].value_counts()[:10].plot(kind='bar',color='grey')\n",
    "plt.title('北京二手房房屋户型情况',fontsize=15,color='red')\n",
    "plt.xlabel('房屋户型',fontsize=15)\n",
    "plt.ylabel('房源数量',fontsize=15)\n",
    "plt.grid(linestyle=\":\", color=\"r\")\n",
    "plt.legend()\n",
    "plt.xticks(rotation=60)\n",
    "# ax.spines['top'].set_visible(False)\n",
    "# ax.spines['right'].set_visible(False)\n",
    "plt.show()"
   ]
  },
  {
   "cell_type": "code",
   "execution_count": 69,
   "metadata": {},
   "outputs": [
    {
     "data": {
      "text/html": [
       "<div>\n",
       "<style scoped>\n",
       "    .dataframe tbody tr th:only-of-type {\n",
       "        vertical-align: middle;\n",
       "    }\n",
       "\n",
       "    .dataframe tbody tr th {\n",
       "        vertical-align: top;\n",
       "    }\n",
       "\n",
       "    .dataframe thead th {\n",
       "        text-align: right;\n",
       "    }\n",
       "</style>\n",
       "<table border=\"1\" class=\"dataframe\">\n",
       "  <thead>\n",
       "    <tr style=\"text-align: right;\">\n",
       "      <th></th>\n",
       "      <th>区/县</th>\n",
       "      <th>区域</th>\n",
       "      <th>小区</th>\n",
       "      <th>总价</th>\n",
       "      <th>单价</th>\n",
       "      <th>房屋户型</th>\n",
       "      <th>楼层</th>\n",
       "      <th>总面积</th>\n",
       "      <th>朝向</th>\n",
       "      <th>建筑结构</th>\n",
       "      <th>装修情况</th>\n",
       "      <th>交易权属</th>\n",
       "      <th>形式</th>\n",
       "      <th>是否满五</th>\n",
       "      <th>产权形式</th>\n",
       "      <th>是否有房本</th>\n",
       "      <th>小区均价</th>\n",
       "      <th>小区建成</th>\n",
       "      <th>总栋数</th>\n",
       "    </tr>\n",
       "  </thead>\n",
       "  <tbody>\n",
       "    <tr>\n",
       "      <td>840</td>\n",
       "      <td>东城</td>\n",
       "      <td>天坛</td>\n",
       "      <td>金鱼池中区</td>\n",
       "      <td>770.0</td>\n",
       "      <td>54695.3</td>\n",
       "      <td>5室2厅4卫</td>\n",
       "      <td>低楼层</td>\n",
       "      <td>140.78</td>\n",
       "      <td>南北</td>\n",
       "      <td>钢混结构</td>\n",
       "      <td>精装</td>\n",
       "      <td>私产</td>\n",
       "      <td>普通住宅</td>\n",
       "      <td>满五年</td>\n",
       "      <td>非共有</td>\n",
       "      <td>已上传房本照片</td>\n",
       "      <td>76774</td>\n",
       "      <td>1978</td>\n",
       "      <td>19</td>\n",
       "    </tr>\n",
       "  </tbody>\n",
       "</table>\n",
       "</div>"
      ],
      "text/plain": [
       "    区/县  区域     小区     总价       单价    房屋户型   楼层     总面积  朝向  建筑结构 装修情况 交易权属  \\\n",
       "840  东城  天坛  金鱼池中区  770.0  54695.3  5室2厅4卫  低楼层  140.78  南北  钢混结构   精装   私产   \n",
       "\n",
       "       形式 是否满五 产权形式    是否有房本   小区均价  小区建成 总栋数  \n",
       "840  普通住宅  满五年  非共有  已上传房本照片  76774  1978  19  "
      ]
     },
     "execution_count": 69,
     "metadata": {},
     "output_type": "execute_result"
    }
   ],
   "source": [
    "need_data[need_data.房屋户型 == '5室2厅4卫']"
   ]
  },
  {
   "cell_type": "code",
   "execution_count": 15,
   "metadata": {},
   "outputs": [
    {
     "name": "stdout",
     "output_type": "stream",
     "text": [
      "二手房总价最低价位为：\n",
      "115.0\n",
      "二手房总价最低的房源信息为：\n",
      "    区/县    区域     小区     总价       单价    房屋户型   楼层    总面积 朝向  建筑结构 装修情况 交易权属  \\\n",
      "375  昌平  昌平其它  金科帕提欧  115.0  14660.9  1室0厅2卫  低楼层  78.44  西  钢混结构   精装  商品房   \n",
      "\n",
      "        形式 是否满五 产权形式    是否有房本   小区均价  小区建成 总栋数  \n",
      "375  商业办公类  满五年  非共有  已上传房本照片  32986  2010  32  \n",
      "二手房总价最高价位为：\n",
      "2530.0\n",
      "二手房总价最低的房源信息为：\n",
      "     区/县   区域   小区      总价        单价    房屋户型   楼层     总面积  朝向  建筑结构 装修情况 交易权属  \\\n",
      "2855  西城  陶然亭  朱雀门  2530.0  153454.0  3室2厅2卫  低楼层  164.87  南北  钢混结构   其他  商品房   \n",
      "\n",
      "        形式 是否满五 产权形式    是否有房本    小区均价  小区建成 总栋数  \n",
      "2855  普通住宅  满五年  非共有  已上传房本照片  138223  2004  31  \n"
     ]
    }
   ],
   "source": [
    "# 北京二手房总价最大、最小值及其房源信息\n",
    "total_price_min = need_data['总价'].min()\n",
    "total_price_min_room_info = need_data[need_data.总价==total_price_min]\n",
    "print('二手房总价最低价位为：\\n{}'.format(total_price_min))\n",
    "print('二手房总价最低的房源信息为：\\n{}'.format(total_price_min_room_info))\n",
    "total_price_max = need_data['总价'].max()\n",
    "total_price_max_room_info = need_data[need_data.总价==total_price_max]\n",
    "print('二手房总价最高价位为：\\n{}'.format(total_price_max))\n",
    "print('二手房总价最低的房源信息为：\\n{}'.format(total_price_max_room_info))"
   ]
  },
  {
   "cell_type": "code",
   "execution_count": 16,
   "metadata": {
    "scrolled": true
   },
   "outputs": [
    {
     "data": {
      "image/png": "[encoded data removed]",
      "text/plain": [
       "<Figure size 432x288 with 1 Axes>"
      ]
     },
     "metadata": {
      "needs_background": "light"
     },
     "output_type": "display_data"
    }
   ],
   "source": [
    "#  绘制总面积和总价的散点关系图\n",
    "home_area = need_data['总面积'].apply(lambda x:float(x))\n",
    "# print(home_area.head())\n",
    "total_price = need_data['总价']\n",
    "# print(total_price.head())\n",
    "plt.scatter(home_area,total_price,s=3)\n",
    "plt.title('北京二手房房屋户型情况',fontsize=15)\n",
    "plt.xlabel('房屋面积',fontsize=15)\n",
    "plt.ylabel('房源总价',fontsize=15)\n",
    "plt.grid(linestyle=\":\", color=\"r\")\n",
    "plt.show()"
   ]
  },
  {
   "cell_type": "code",
   "execution_count": 17,
   "metadata": {},
   "outputs": [
    {
     "name": "stdout",
     "output_type": "stream",
     "text": [
      "二手房面积最大的房源信息为：\n",
      "     区/县   区域      小区     总价       单价    房屋户型   楼层     总面积  朝向  建筑结构 装修情况  \\\n",
      "2686  昌平  天通苑  天通苑北二区  660.0  25462.0  3室2厅2卫  低楼层  259.21  南北  钢混结构   其他   \n",
      "\n",
      "     交易权属    形式 是否满五 产权形式    是否有房本   小区均价  小区建成 总栋数  \n",
      "2686  商品房  普通住宅  满两年  非共有  已上传房本照片  36621  2004  45  \n"
     ]
    }
   ],
   "source": [
    "#  分析两个面积大但是价格较低的房源\n",
    "area_max = home_area.max()\n",
    "area_max_room_info = need_data[home_area==area_max]\n",
    "print('二手房面积最大的房源信息为：\\n{}'.format(area_max_room_info))"
   ]
  },
  {
   "cell_type": "code",
   "execution_count": 70,
   "metadata": {},
   "outputs": [
    {
     "data": {
      "image/png": "[encoded data removed]",
      "text/plain": [
       "<Figure size 432x288 with 1 Axes>"
      ]
     },
     "metadata": {
      "needs_background": "light"
     },
     "output_type": "display_data"
    }
   ],
   "source": [
    "'''\n",
    "装修情况的房源分布情况！！！\n",
    "'''\n",
    "need_data['装修情况'].value_counts().plot(kind='bar',color=['g','r','y','b'],alpha=0.5)\n",
    "plt.title('北京二手房装修情况的房源分布信息！',fontsize=15)\n",
    "plt.xlabel('装修类型',fontsize=15)\n",
    "plt.ylabel('房源数量',fontsize=15)\n",
    "plt.grid(linestyle=\":\", color=\"r\")\n",
    "plt.legend()\n",
    "plt.xticks(rotation=0)\n",
    "plt.show()"
   ]
  },
  {
   "cell_type": "code",
   "execution_count": 19,
   "metadata": {},
   "outputs": [
    {
     "data": {
      "image/png": "[encoded data removed]",
      "text/plain": [
       "<Figure size 432x288 with 1 Axes>"
      ]
     },
     "metadata": {
      "needs_background": "light"
     },
     "output_type": "display_data"
    }
   ],
   "source": [
    "'''\n",
    "装修情况的均价分布情况！！！\n",
    "'''\n",
    "need_data.groupby('装修情况').mean()['单价'].plot(kind='bar',color=['g','r','y','b'],alpha=0.5)\n",
    "plt.title('北京二手房装修与房屋均价分布信息！',fontsize=15)\n",
    "plt.xlabel('装修类型',fontsize=15)\n",
    "plt.ylabel('房屋均价',fontsize=15)\n",
    "plt.grid(linestyle=\":\", color=\"r\")\n",
    "plt.legend()\n",
    "plt.xticks(rotation=0)\n",
    "plt.show()"
   ]
  },
  {
   "cell_type": "code",
   "execution_count": 20,
   "metadata": {},
   "outputs": [
    {
     "name": "stdout",
     "output_type": "stream",
     "text": [
      "小区均价最高的价格是：162961.0\n",
      "小区均价最低的价格是：14646.0\n"
     ]
    }
   ],
   "source": [
    "# 小区均价数据的清洗处理\n",
    "# 由于小区均价中存在暂无数据的情况，本次使用单价的形式代替房屋均价\n",
    "need_data = need_data.copy()\n",
    "need_data['小区均价'] = need_data.apply(lambda x: x['单价'] if ('暂无数据' in str(x['小区均价'])) else x['小区均价'],axis=1)\n",
    "avg_price = need_data['小区均价'].astype('float')\n",
    "print('小区均价最高的价格是：{}'.format(avg_price.max()))\n",
    "print('小区均价最低的价格是：{}'.format(avg_price.min()))"
   ]
  },
  {
   "cell_type": "code",
   "execution_count": 21,
   "metadata": {},
   "outputs": [
    {
     "data": {
      "text/html": [
       "<div>\n",
       "<style scoped>\n",
       "    .dataframe tbody tr th:only-of-type {\n",
       "        vertical-align: middle;\n",
       "    }\n",
       "\n",
       "    .dataframe tbody tr th {\n",
       "        vertical-align: top;\n",
       "    }\n",
       "\n",
       "    .dataframe thead th {\n",
       "        text-align: right;\n",
       "    }\n",
       "</style>\n",
       "<table border=\"1\" class=\"dataframe\">\n",
       "  <thead>\n",
       "    <tr style=\"text-align: right;\">\n",
       "      <th></th>\n",
       "      <th>区/县</th>\n",
       "      <th>区域</th>\n",
       "      <th>小区</th>\n",
       "      <th>总价</th>\n",
       "      <th>单价</th>\n",
       "      <th>房屋户型</th>\n",
       "      <th>楼层</th>\n",
       "      <th>总面积</th>\n",
       "      <th>朝向</th>\n",
       "      <th>建筑结构</th>\n",
       "      <th>装修情况</th>\n",
       "      <th>交易权属</th>\n",
       "      <th>形式</th>\n",
       "      <th>是否满五</th>\n",
       "      <th>产权形式</th>\n",
       "      <th>是否有房本</th>\n",
       "      <th>小区均价</th>\n",
       "      <th>小区建成</th>\n",
       "      <th>总栋数</th>\n",
       "    </tr>\n",
       "  </thead>\n",
       "  <tbody>\n",
       "    <tr>\n",
       "      <td>299</td>\n",
       "      <td>房山</td>\n",
       "      <td>韩村河</td>\n",
       "      <td>韩村河西小区</td>\n",
       "      <td>138.0</td>\n",
       "      <td>16715.1</td>\n",
       "      <td>2室1厅1卫</td>\n",
       "      <td>低楼层</td>\n",
       "      <td>82.56</td>\n",
       "      <td>南北</td>\n",
       "      <td>混合结构</td>\n",
       "      <td>简装</td>\n",
       "      <td>商品房</td>\n",
       "      <td>普通住宅</td>\n",
       "      <td>满五年</td>\n",
       "      <td>非共有</td>\n",
       "      <td>已上传房本照片</td>\n",
       "      <td>14646</td>\n",
       "      <td>1990</td>\n",
       "      <td>8</td>\n",
       "    </tr>\n",
       "    <tr>\n",
       "      <td>480</td>\n",
       "      <td>房山</td>\n",
       "      <td>韩村河</td>\n",
       "      <td>韩村河西小区</td>\n",
       "      <td>154.0</td>\n",
       "      <td>14144.0</td>\n",
       "      <td>3室1厅1卫</td>\n",
       "      <td>低楼层</td>\n",
       "      <td>108.88</td>\n",
       "      <td>东南北</td>\n",
       "      <td>混合结构</td>\n",
       "      <td>精装</td>\n",
       "      <td>商品房</td>\n",
       "      <td>普通住宅</td>\n",
       "      <td>暂无数据</td>\n",
       "      <td>共有</td>\n",
       "      <td>已上传房本照片</td>\n",
       "      <td>14646</td>\n",
       "      <td>1990</td>\n",
       "      <td>8</td>\n",
       "    </tr>\n",
       "  </tbody>\n",
       "</table>\n",
       "</div>"
      ],
      "text/plain": [
       "    区/县   区域      小区     总价       单价    房屋户型   楼层     总面积   朝向  建筑结构 装修情况  \\\n",
       "299  房山  韩村河  韩村河西小区  138.0  16715.1  2室1厅1卫  低楼层   82.56   南北  混合结构   简装   \n",
       "480  房山  韩村河  韩村河西小区  154.0  14144.0  3室1厅1卫  低楼层  108.88  东南北  混合结构   精装   \n",
       "\n",
       "    交易权属    形式  是否满五 产权形式    是否有房本   小区均价  小区建成 总栋数  \n",
       "299  商品房  普通住宅   满五年  非共有  已上传房本照片  14646  1990   8  \n",
       "480  商品房  普通住宅  暂无数据   共有  已上传房本照片  14646  1990   8  "
      ]
     },
     "execution_count": 21,
     "metadata": {},
     "output_type": "execute_result"
    }
   ],
   "source": [
    "# 小区均价最低的房源信息\n",
    "need_data[need_data['小区均价'].astype('float')==avg_price.min()]"
   ]
  },
  {
   "cell_type": "code",
   "execution_count": 22,
   "metadata": {},
   "outputs": [
    {
     "data": {
      "text/html": [
       "<div>\n",
       "<style scoped>\n",
       "    .dataframe tbody tr th:only-of-type {\n",
       "        vertical-align: middle;\n",
       "    }\n",
       "\n",
       "    .dataframe tbody tr th {\n",
       "        vertical-align: top;\n",
       "    }\n",
       "\n",
       "    .dataframe thead th {\n",
       "        text-align: right;\n",
       "    }\n",
       "</style>\n",
       "<table border=\"1\" class=\"dataframe\">\n",
       "  <thead>\n",
       "    <tr style=\"text-align: right;\">\n",
       "      <th></th>\n",
       "      <th>区/县</th>\n",
       "      <th>区域</th>\n",
       "      <th>小区</th>\n",
       "      <th>总价</th>\n",
       "      <th>单价</th>\n",
       "      <th>房屋户型</th>\n",
       "      <th>楼层</th>\n",
       "      <th>总面积</th>\n",
       "      <th>朝向</th>\n",
       "      <th>建筑结构</th>\n",
       "      <th>装修情况</th>\n",
       "      <th>交易权属</th>\n",
       "      <th>形式</th>\n",
       "      <th>是否满五</th>\n",
       "      <th>产权形式</th>\n",
       "      <th>是否有房本</th>\n",
       "      <th>小区均价</th>\n",
       "      <th>小区建成</th>\n",
       "      <th>总栋数</th>\n",
       "    </tr>\n",
       "  </thead>\n",
       "  <tbody>\n",
       "    <tr>\n",
       "      <td>359</td>\n",
       "      <td>西城</td>\n",
       "      <td>金融街</td>\n",
       "      <td>京畿道</td>\n",
       "      <td>780.0</td>\n",
       "      <td>78148.5</td>\n",
       "      <td>3室1厅1卫</td>\n",
       "      <td>地下室</td>\n",
       "      <td>99.81</td>\n",
       "      <td>南北</td>\n",
       "      <td>混合结构</td>\n",
       "      <td>其他</td>\n",
       "      <td>商品房</td>\n",
       "      <td>普通住宅</td>\n",
       "      <td>满两年</td>\n",
       "      <td>非共有</td>\n",
       "      <td>已上传房本照片</td>\n",
       "      <td>162961</td>\n",
       "      <td>1990</td>\n",
       "      <td>11</td>\n",
       "    </tr>\n",
       "  </tbody>\n",
       "</table>\n",
       "</div>"
      ],
      "text/plain": [
       "    区/县   区域   小区     总价       单价    房屋户型   楼层    总面积  朝向  建筑结构 装修情况 交易权属  \\\n",
       "359  西城  金融街  京畿道  780.0  78148.5  3室1厅1卫  地下室  99.81  南北  混合结构   其他  商品房   \n",
       "\n",
       "       形式 是否满五 产权形式    是否有房本    小区均价  小区建成 总栋数  \n",
       "359  普通住宅  满两年  非共有  已上传房本照片  162961  1990  11  "
      ]
     },
     "execution_count": 22,
     "metadata": {},
     "output_type": "execute_result"
    }
   ],
   "source": [
    "# 小区均价最高的房源信息\n",
    "need_data[need_data['小区均价'].astype('float')==avg_price.max()]"
   ]
  },
  {
   "cell_type": "code",
   "execution_count": 23,
   "metadata": {},
   "outputs": [
    {
     "data": {
      "text/html": [
       "<div>\n",
       "<style scoped>\n",
       "    .dataframe tbody tr th:only-of-type {\n",
       "        vertical-align: middle;\n",
       "    }\n",
       "\n",
       "    .dataframe tbody tr th {\n",
       "        vertical-align: top;\n",
       "    }\n",
       "\n",
       "    .dataframe thead th {\n",
       "        text-align: right;\n",
       "    }\n",
       "</style>\n",
       "<table border=\"1\" class=\"dataframe\">\n",
       "  <thead>\n",
       "    <tr style=\"text-align: right;\">\n",
       "      <th></th>\n",
       "      <th>区/县</th>\n",
       "      <th>区域</th>\n",
       "      <th>小区</th>\n",
       "      <th>总价</th>\n",
       "      <th>单价</th>\n",
       "      <th>房屋户型</th>\n",
       "      <th>楼层</th>\n",
       "      <th>总面积</th>\n",
       "      <th>朝向</th>\n",
       "      <th>建筑结构</th>\n",
       "      <th>装修情况</th>\n",
       "      <th>交易权属</th>\n",
       "      <th>形式</th>\n",
       "      <th>是否满五</th>\n",
       "      <th>产权形式</th>\n",
       "      <th>是否有房本</th>\n",
       "      <th>小区均价</th>\n",
       "      <th>小区建成</th>\n",
       "      <th>总栋数</th>\n",
       "    </tr>\n",
       "  </thead>\n",
       "  <tbody>\n",
       "    <tr>\n",
       "      <td>1931</td>\n",
       "      <td>朝阳</td>\n",
       "      <td>望京</td>\n",
       "      <td>望花路西里</td>\n",
       "      <td>260.0</td>\n",
       "      <td>65623.4</td>\n",
       "      <td>1室1厅1卫</td>\n",
       "      <td>高楼层</td>\n",
       "      <td>39.62</td>\n",
       "      <td>东南</td>\n",
       "      <td>混合结构</td>\n",
       "      <td>精装</td>\n",
       "      <td>商品房</td>\n",
       "      <td>普通住宅</td>\n",
       "      <td>满两年</td>\n",
       "      <td>非共有</td>\n",
       "      <td>已上传房本照片</td>\n",
       "      <td>65623.4</td>\n",
       "      <td>暂无数据</td>\n",
       "      <td>暂无数</td>\n",
       "    </tr>\n",
       "    <tr>\n",
       "      <td>2527</td>\n",
       "      <td>朝阳</td>\n",
       "      <td>东坝</td>\n",
       "      <td>东泽园</td>\n",
       "      <td>403.0</td>\n",
       "      <td>46611.1</td>\n",
       "      <td>3室1厅1卫</td>\n",
       "      <td>高楼层</td>\n",
       "      <td>86.46</td>\n",
       "      <td>南</td>\n",
       "      <td>钢混结构</td>\n",
       "      <td>精装</td>\n",
       "      <td>限价商品房</td>\n",
       "      <td>普通住宅</td>\n",
       "      <td>满五年</td>\n",
       "      <td>共有</td>\n",
       "      <td>已上传房本照片</td>\n",
       "      <td>46611.1</td>\n",
       "      <td>暂无数据</td>\n",
       "      <td>暂无数</td>\n",
       "    </tr>\n",
       "  </tbody>\n",
       "</table>\n",
       "</div>"
      ],
      "text/plain": [
       "     区/县  区域     小区     总价       单价    房屋户型   楼层    总面积  朝向  建筑结构 装修情况   交易权属  \\\n",
       "1931  朝阳  望京  望花路西里  260.0  65623.4  1室1厅1卫  高楼层  39.62  东南  混合结构   精装    商品房   \n",
       "2527  朝阳  东坝    东泽园  403.0  46611.1  3室1厅1卫  高楼层  86.46   南  钢混结构   精装  限价商品房   \n",
       "\n",
       "        形式 是否满五 产权形式    是否有房本     小区均价  小区建成  总栋数  \n",
       "1931  普通住宅  满两年  非共有  已上传房本照片  65623.4  暂无数据  暂无数  \n",
       "2527  普通住宅  满五年   共有  已上传房本照片  46611.1  暂无数据  暂无数  "
      ]
     },
     "execution_count": 23,
     "metadata": {},
     "output_type": "execute_result"
    }
   ],
   "source": [
    "# 将未有小区建成时间的数据字段直接剔除（2个）\n",
    "need_data[need_data.小区建成=='暂无数据']"
   ]
  },
  {
   "cell_type": "code",
   "execution_count": 24,
   "metadata": {},
   "outputs": [
    {
     "data": {
      "image/png": "[encoded data removed]",
      "text/plain": [
       "<Figure size 432x288 with 1 Axes>"
      ]
     },
     "metadata": {
      "needs_background": "light"
     },
     "output_type": "display_data"
    }
   ],
   "source": [
    "# 剔除小区建成时间为暂无数据的两条数据\n",
    "try:\n",
    "    need_data = need_data.drop([1931,2527])\n",
    "except:\n",
    "    print('数据已经剔除！！！')\n",
    "need_data[need_data.小区建成=='暂无数据']\n",
    "# 将小区建成时间转成日期并仅提取其中的年份\n",
    "built_year = pd.to_datetime(need_data.小区建成).dt.year\n",
    "# 绘制小区建成年限与小区均价的散点分布图\n",
    "plt.scatter(built_year,need_data['小区均价'].astype(float),s=6)\n",
    "plt.title('北京二手房小区建成年份与均价分布信息！',fontsize=15)\n",
    "plt.xlabel('小区建成年份',fontsize=15)\n",
    "plt.ylabel('房屋均价',fontsize=15)\n",
    "plt.grid(linestyle=\":\", color=\"r\")\n",
    "plt.xticks(rotation=0)\n",
    "plt.show()"
   ]
  },
  {
   "cell_type": "code",
   "execution_count": 25,
   "metadata": {},
   "outputs": [
    {
     "data": {
      "text/plain": [
       "非共有    2573\n",
       "共有      375\n",
       "Name: 产权形式, dtype: int64"
      ]
     },
     "execution_count": 25,
     "metadata": {},
     "output_type": "execute_result"
    }
   ],
   "source": [
    "# 分析房屋的产权形式（得出结论有两种）\n",
    "need_data['产权形式'].value_counts()"
   ]
  },
  {
   "cell_type": "code",
   "execution_count": 55,
   "metadata": {},
   "outputs": [
    {
     "data": {
      "image/png": "[encoded data removed]",
      "text/plain": [
       "<Figure size 432x288 with 1 Axes>"
      ]
     },
     "metadata": {
      "needs_background": "light"
     },
     "output_type": "display_data"
    }
   ],
   "source": [
    "avg_price_louceng = need_louceng_data.groupby('楼层').mean()['单价']\n",
    "avg_price_louceng.plot(kind='bar',color=['g','r','y','b'],alpha=0.5)\n",
    "plt.title('北京二手房楼层与房屋均价分布信息！',fontsize=15)\n",
    "plt.xlabel('楼层信息',fontsize=15)\n",
    "plt.ylabel('房屋均价',fontsize=15)\n",
    "plt.grid(linestyle=\":\", color=\"g\",alpha=0.4)\n",
    "plt.legend()\n",
    "plt.xticks(rotation=0)\n",
    "plt.show()"
   ]
  },
  {
   "cell_type": "code",
   "execution_count": 68,
   "metadata": {},
   "outputs": [],
   "source": [
    "# 使用pyecharts绘制楼层和房屋数量的饼图\n",
    "import pyecharts as pye\n",
    "x = avg_price_louceng.index\n",
    "y =  avg_price_louceng.values\n",
    "pie = pye.Pie(\"房源分布信息\")\n",
    "pie.add(\"\",x,y,is_label_show=True)\n",
    "pie.render()"
   ]
  },
  {
   "cell_type": "code",
   "execution_count": null,
   "metadata": {},
   "outputs": [],
   "source": []
  }
 ],
 "metadata": {
  "kernelspec": {
   "display_name": "Python 3",
   "language": "python",
   "name": "python3"
  },
  "language_info": {
   "codemirror_mode": {
    "name": "ipython",
    "version": 3
   },
   "file_extension": ".py",
   "mimetype": "text/x-python",
   "name": "python",
   "nbconvert_exporter": "python",
   "pygments_lexer": "ipython3",
   "version": "3.7.0"
  }
 },
 "nbformat": 4,
 "nbformat_minor": 2
}
